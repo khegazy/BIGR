{
 "cells": [
  {
   "cell_type": "code",
   "execution_count": 3,
   "metadata": {},
   "outputs": [],
   "source": [
    "import sys, os, glob, time\n",
    "import time\n",
    "import h5py\n",
    "from copy import copy as copy\n",
    "import numpy as np\n",
    "import scipy as sp\n",
    "import numpy.random as rn\n",
    "import matplotlib.pyplot as plt\n",
    "from multiprocessing import Pool, Process, Manager\n",
    "\n",
    "from parameters import data_parameters\n",
    "from modules.density_extraction import density_extraction, calc_all_dists\n",
    "\n",
    "#pip install corner"
   ]
  },
  {
   "cell_type": "code",
   "execution_count": 4,
   "metadata": {},
   "outputs": [],
   "source": [
    "def log_prior(theta):\n",
    "    d1_min, d1_max = 1e-4, 10.0\n",
    "    d2_max, d2_max = 1e-4, 10.0\n",
    "    d3 = np.sqrt((theta[:,0] - theta[:,1]*np.cos(theta[:,2]))**2\n",
    "        + (theta[:,1]*np.sin(theta[:,2]))**2)\n",
    "    prob = np.zeros(theta.shape[0])\n",
    "    inds = (theta[:,2] > np.pi) + (theta[:,2] < 1e-3)\\\n",
    "          + (theta[:,0] < d1_min) + (theta[:,0] > d1_max)\\\n",
    "          + (theta[:,1] < d2_min) + (theta[:,1] > d2_max)\n",
    "          #+ (theta[:,1] > d3) + (theta[:,0] > d3)           #\n",
    "\n",
    "    log_prob[inds] = -1*np.inf\n",
    "\n",
    "    return log_prob"
   ]
  },
  {
   "cell_type": "code",
   "execution_count": 5,
   "metadata": {},
   "outputs": [],
   "source": [
    "def theta_to_cartesian(theta):\n",
    "    st, ct = np.sin(theta[:,2]/2), np.cos(theta[:,2]/2)\n",
    "    molecules = np.zeros((theta.shape[0], 3, 3))\n",
    "    molecules[:,0,0] = theta[:,0]*ct\n",
    "    molecules[:,0,2] = theta[:,0]*st\n",
    "    molecules[:,2,0] = theta[:,1]*ct\n",
    "    molecules[:,2,2] = -1*theta[:,1]*st\n",
    "\n",
    "    return molecules"
   ]
  },
  {
   "cell_type": "code",
   "execution_count": 6,
   "metadata": {},
   "outputs": [],
   "source": [
    "def initialize_walkers(params, molecule):\n",
    "    d1 = np.linalg.norm(molecule[0] - molecule[1])\n",
    "    d2 = np.linalg.norm(molecule[2] - molecule[1])\n",
    "    ang = np.arccos(np.sum(\n",
    "        (molecule[0] - molecule[1])*(molecule[2] - molecule[1]))/(d1*d2))\n",
    "    dists = rnd.normal(0, 1, size=(params[\"Nwalkers\"], 3)) \n",
    "\n",
    "    dists *= 0.005*np.array([[d1, d2, ang]])\n",
    "    dists += np.array([[d1, d2, ang]])\n",
    "\n",
    "    return dists "
   ]
  },
  {
   "cell_type": "code",
   "execution_count": 12,
   "metadata": {},
   "outputs": [],
   "source": [
    "def molecule_ensemble_generator(molecule):\n",
    "    N = 51\n",
    "    std_r = 0.01\n",
    "    std_a = 0.02\n",
    "    d1 = np.linalg.norm(molecule[0] - molecule[1])\n",
    "    d2 = np.linalg.norm(molecule[2] - molecule[1])\n",
    "    ang = np.arccos(np.sum(\n",
    "        (molecule[0] - molecule[1])*(molecule[2] - molecule[1]))/(d1*d2))\n",
    "    def Prob(x, m, s):\n",
    "        return np.exp(-0.5*((x-m)/s)**2)/(s*np.sqrt(2*np.pi))\n",
    "\n",
    "\n",
    "    d1_distribution_vals = np.linspace(d1-std_r*4, d1+std_r*4, N)\n",
    "    d2_distribution_vals = np.linspace(d2-std_r*4, d2+std_r*4, N)\n",
    "    ang_distribution_vals = np.linspace(ang-std_a*4, ang+std_a*4, N)\n",
    "\n",
    "    d1_probs = Prob(d1_distribution_vals, d1, std_r)\n",
    "    d1_probs /= np.sum(d1_probs)\n",
    "    d2_probs = Prob(d2_distribution_vals, d2, std_r)\n",
    "    d2_probs /= np.sum(d2_probs)\n",
    "    ang_probs = Prob(ang_distribution_vals, ang, std_a)\n",
    "    ang_probs /= np.sum(ang_probs)\n",
    "    thetas = np.ones((N,N,N,3))*np.nan\n",
    "    joint_probs = np.ones((N,N,N,1))*np.nan\n",
    "\n",
    "    i1 = np.arange(N)\n",
    "    for i in i1:\n",
    "        thetas[i,:,:,0] = d1_distribution_vals[i]\n",
    "        for j in i1:\n",
    "            thetas[i,j,:,1] = d2_distribution_vals[j]\n",
    "            thetas[i,j,i1,2] = ang_distribution_vals[i1]\n",
    "            joint_probs[i,j,:,0] = d1_probs[i]*d2_probs[j]*ang_probs\n",
    "\n",
    "    thetas = np.reshape(thetas, (-1,3))\n",
    "    joint_probs = np.reshape(joint_probs, (-1,1))\n",
    "\n",
    "\n",
    "    molecules = theta_to_cartesian(thetas)\n",
    "    norm = np.sum(joint_probs)\n",
    "    mean_thetas = np.sum(thetas*joint_probs, 0)/norm\n",
    "    mean_cartesian = np.sum(np.expand_dims(joint_probs, -1)*molecules, 0)/norm\n",
    "    mean_d3 = np.linalg.norm(np.sum((molecules[:,0] - molecules[:,-1])*joint_probs, 0)/norm)\n",
    "    std_thetas = np.sqrt(np.sum((thetas - mean_thetas)**2*joint_probs, 0)/norm)\n",
    "    std_cartesian = np.sqrt(np.sum(np.expand_dims(joint_probs, -1)*(molecules - mean_cartesian)**2, 0)/norm)\n",
    "    std_d3 = np.sqrt(\n",
    "      np.sum(joint_probs[:,0]*(np.linalg.norm(molecules[:,0]-molecules[:,-1], axis=-1)-mean_d3)**2, 0)/norm)\n",
    "\n",
    "    print(\"\\n#####  Mean molecule thetas  #####\")\n",
    "    print(mean_thetas)\n",
    "    print(\"\\n#####  STD molecule thetas  #####\")\n",
    "    print(std_thetas)\n",
    "    print(\"\\n#####  Mean molecule cartesian  #####\")\n",
    "    print(mean_cartesian)\n",
    "    print(\"\\n#####  STD molecule cartesian  #####\")\n",
    "    print(std_cartesian)\n",
    "    print(\"\\n#####  Mean d3  #####\")\n",
    "    print(mean_d3)\n",
    "    print(\"\\n#####  STD d3  #####\")\n",
    "    print(std_d3)\n",
    "    print(\"\\n\")\n",
    "\n",
    "\n",
    "\n",
    "    #print(np.sum(molecules*np.expand_dims(weights, -1), 0))\n",
    "    return molecules, joint_probs"
   ]
  },
  {
   "cell_type": "code",
   "execution_count": 8,
   "metadata": {},
   "outputs": [
    {
     "ename": "IndentationError",
     "evalue": "unindent does not match any outer indentation level (<ipython-input-8-c00bf9ef49e1>, line 19)",
     "output_type": "error",
     "traceback": [
      "\u001b[0;36m  File \u001b[0;32m\"<ipython-input-8-c00bf9ef49e1>\"\u001b[0;36m, line \u001b[0;32m19\u001b[0m\n\u001b[0;31m    molecule = extraction.setup_calculations()\u001b[0m\n\u001b[0m                                              ^\u001b[0m\n\u001b[0;31mIndentationError\u001b[0m\u001b[0;31m:\u001b[0m unindent does not match any outer indentation level\n"
     ]
    }
   ],
   "source": [
    "def run_mcmc(data_parameters,\n",
    "    extraction=None, input_params=None):\n",
    "\n",
    "  #####  Change Parameters Based on Input  #####\n",
    "  if input_params is not None:\n",
    "    for k,v in input_params.items():\n",
    "      if k not in data_parameters:\n",
    "        print(\"WARNING: parameter {} was not found in input data_parameters, not adding\".format(k))\n",
    "\n",
    "      data_parameters[k] = v\n",
    "\n",
    "  #####  Create extraction Class if not given  #####\n",
    "  if extraction is None:\n",
    "      extraction = density_extraction(data_parameters,\n",
    "          log_prior=log_prior,\n",
    "          theta_to_cartesian=theta_to_cartesian,\n",
    "          ensemble_generator=molecule_ensemble_generator,\n",
    "          get_ADMs=get_ADMs)\n",
    "    molecule = extraction.setup_calculations()\n",
    "\n",
    "\n",
    "  ######################\n",
    "  #####  Run MCMC  #####\n",
    "  ######################\n",
    "\n",
    "    walkers_init = initialize_walkers(\n",
    "        data_parameters, extraction.atom_positions)\n",
    "\n",
    "  extraction.run_mcmc(walkers_init, data_parameters[\"run_limit\"])\n",
    "\n",
    "  chain = extraction.get_mcmc_results()"
   ]
  },
  {
   "cell_type": "markdown",
   "metadata": {},
   "source": [
    "# Run Analysis"
   ]
  },
  {
   "cell_type": "markdown",
   "metadata": {},
   "source": [
    "## Setup Density Extraction Environment, Calculations, Dataset (simulated)"
   ]
  },
  {
   "cell_type": "code",
   "execution_count": 13,
   "metadata": {},
   "outputs": [
    {
     "name": "stdout",
     "output_type": "stream",
     "text": [
      "['O', '0.000000', '0.465300', '1.098900']\n",
      "['N', '0.000000', '0.000000', '0.000000']\n",
      "['O', '0.000000', '0.465300', '-1.098900']\n",
      "INP DOM (500,)\n",
      "\n",
      "#####  Mean molecule thetas  #####\n",
      "[1.19335045 1.19335045 2.34052362]\n",
      "\n",
      "#####  STD molecule thetas  #####\n",
      "[0.0099961  0.0099961  0.01999221]\n",
      "\n",
      "#####  Mean molecule cartesian  #####\n",
      "[[ 0.46527675  0.          1.0988451 ]\n",
      " [ 0.          0.          0.        ]\n",
      " [ 0.46527675  0.         -1.0988451 ]]\n",
      "\n",
      "#####  STD molecule cartesian  #####\n",
      "[[0.01165552 0.         0.01031316]\n",
      " [0.         0.         0.        ]\n",
      " [0.01165552 0.         0.01031316]]\n",
      "\n",
      "#####  Mean d3  #####\n",
      "2.1976901983449695\n",
      "\n",
      "#####  STD d3  #####\n",
      "0.015999685037020782\n",
      "\n",
      "\n"
     ]
    },
    {
     "ename": "MemoryError",
     "evalue": "Unable to allocate array with shape (6, 3, 500, 132651) and data type float64",
     "output_type": "error",
     "traceback": [
      "\u001b[0;31m---------------------------------------------------------------------------\u001b[0m",
      "\u001b[0;31mMemoryError\u001b[0m                               Traceback (most recent call last)",
      "\u001b[0;32m<ipython-input-13-abcc6d5bbaa5>\u001b[0m in \u001b[0;36m<module>\u001b[0;34m()\u001b[0m\n\u001b[1;32m      3\u001b[0m     \u001b[0mtheta_to_cartesian\u001b[0m\u001b[0;34m=\u001b[0m\u001b[0mtheta_to_cartesian\u001b[0m\u001b[0;34m,\u001b[0m\u001b[0;34m\u001b[0m\u001b[0;34m\u001b[0m\u001b[0m\n\u001b[1;32m      4\u001b[0m     \u001b[0mensemble_generator\u001b[0m\u001b[0;34m=\u001b[0m\u001b[0mmolecule_ensemble_generator\u001b[0m\u001b[0;34m,\u001b[0m\u001b[0;34m\u001b[0m\u001b[0;34m\u001b[0m\u001b[0m\n\u001b[0;32m----> 5\u001b[0;31m     get_ADMs=None)\n\u001b[0m\u001b[1;32m      6\u001b[0m \u001b[0mmolecule\u001b[0m \u001b[0;34m=\u001b[0m \u001b[0mextraction\u001b[0m\u001b[0;34m.\u001b[0m\u001b[0msetup_calculations\u001b[0m\u001b[0;34m(\u001b[0m\u001b[0;34m)\u001b[0m\u001b[0;34m\u001b[0m\u001b[0;34m\u001b[0m\u001b[0m\n",
      "\u001b[0;32m/media/kareem/09F434A51ACAE825/physics/research/density_extraction/density_extraction/modules/density_extraction.py\u001b[0m in \u001b[0;36m__init__\u001b[0;34m(self, data_params, log_prior, theta_to_cartesian, ensemble_generator, get_ADMs, results_only)\u001b[0m\n\u001b[1;32m    174\u001b[0m     \u001b[0;31m# Simulate data if needed\u001b[0m\u001b[0;34m\u001b[0m\u001b[0;34m\u001b[0m\u001b[0;34m\u001b[0m\u001b[0m\n\u001b[1;32m    175\u001b[0m     \u001b[0;32mif\u001b[0m \u001b[0;32mnot\u001b[0m \u001b[0mself\u001b[0m\u001b[0;34m.\u001b[0m\u001b[0mdata_or_sim\u001b[0m\u001b[0;34m:\u001b[0m\u001b[0;34m\u001b[0m\u001b[0;34m\u001b[0m\u001b[0m\n\u001b[0;32m--> 176\u001b[0;31m       \u001b[0mself\u001b[0m\u001b[0;34m.\u001b[0m\u001b[0msimulate_data\u001b[0m\u001b[0;34m(\u001b[0m\u001b[0mensemble_generator\u001b[0m\u001b[0;34m)\u001b[0m\u001b[0;34m\u001b[0m\u001b[0;34m\u001b[0m\u001b[0m\n\u001b[0m\u001b[1;32m    177\u001b[0m \u001b[0;34m\u001b[0m\u001b[0m\n\u001b[1;32m    178\u001b[0m     \u001b[0;31m# Prune data in time and dom\u001b[0m\u001b[0;34m\u001b[0m\u001b[0;34m\u001b[0m\u001b[0;34m\u001b[0m\u001b[0m\n",
      "\u001b[0;32m/media/kareem/09F434A51ACAE825/physics/research/density_extraction/density_extraction/modules/density_extraction.py\u001b[0m in \u001b[0;36msimulate_data\u001b[0;34m(self, ensemble_generator)\u001b[0m\n\u001b[1;32m    352\u001b[0m     \u001b[0;32mif\u001b[0m \u001b[0mensemble_generator\u001b[0m \u001b[0;32mis\u001b[0m \u001b[0;32mnot\u001b[0m \u001b[0;32mNone\u001b[0m\u001b[0;34m:\u001b[0m\u001b[0;34m\u001b[0m\u001b[0;34m\u001b[0m\u001b[0m\n\u001b[1;32m    353\u001b[0m       \u001b[0mensemble\u001b[0m\u001b[0;34m,\u001b[0m \u001b[0mweights\u001b[0m \u001b[0;34m=\u001b[0m \u001b[0mensemble_generator\u001b[0m\u001b[0;34m(\u001b[0m\u001b[0mmolecule\u001b[0m\u001b[0;34m)\u001b[0m\u001b[0;34m\u001b[0m\u001b[0;34m\u001b[0m\u001b[0m\n\u001b[0;32m--> 354\u001b[0;31m       \u001b[0mcalc_coeffs\u001b[0m \u001b[0;34m=\u001b[0m \u001b[0mself\u001b[0m\u001b[0;34m.\u001b[0m\u001b[0mcalculate_coeffs_ensemble\u001b[0m\u001b[0;34m(\u001b[0m\u001b[0mensemble\u001b[0m\u001b[0;34m,\u001b[0m \u001b[0mw\u001b[0m\u001b[0;34m=\u001b[0m\u001b[0mweights\u001b[0m\u001b[0;34m)\u001b[0m\u001b[0;34m\u001b[0m\u001b[0;34m\u001b[0m\u001b[0m\n\u001b[0m\u001b[1;32m    355\u001b[0m       \u001b[0mself\u001b[0m\u001b[0;34m.\u001b[0m\u001b[0minput_data_coeffs\u001b[0m \u001b[0;34m=\u001b[0m \u001b[0mnp\u001b[0m\u001b[0;34m.\u001b[0m\u001b[0msum\u001b[0m\u001b[0;34m(\u001b[0m\u001b[0mcalc_coeffs\u001b[0m\u001b[0;34m*\u001b[0m\u001b[0mnp\u001b[0m\u001b[0;34m.\u001b[0m\u001b[0mexpand_dims\u001b[0m\u001b[0;34m(\u001b[0m\u001b[0mweights\u001b[0m\u001b[0;34m,\u001b[0m \u001b[0;34m-\u001b[0m\u001b[0;36m1\u001b[0m\u001b[0;34m)\u001b[0m\u001b[0;34m,\u001b[0m \u001b[0;36m0\u001b[0m\u001b[0;34m)\u001b[0m\u001b[0;34m\u001b[0m\u001b[0;34m\u001b[0m\u001b[0m\n\u001b[1;32m    356\u001b[0m       self.input_data_coeffs_var = np.sum((calc_coeffs - self.input_data_coeffs)**2\\\n",
      "\u001b[0;32m/media/kareem/09F434A51ACAE825/physics/research/density_extraction/density_extraction/modules/density_extraction.py\u001b[0m in \u001b[0;36mcalculate_coeffs_ensemble\u001b[0;34m(self, R, w)\u001b[0m\n\u001b[1;32m    711\u001b[0m     \u001b[0;31m#print(self.calc_dom.shape, dists[:,0].shape, self.data_Lcalc.shape)\u001b[0m\u001b[0;34m\u001b[0m\u001b[0;34m\u001b[0m\u001b[0;34m\u001b[0m\u001b[0m\n\u001b[1;32m    712\u001b[0m     J = sp.special.spherical_jn(np.expand_dims(self.data_Lcalc, -1), \n\u001b[0;32m--> 713\u001b[0;31m         np.expand_dims(self.calc_dom, -1)*np.expand_dims(dists[:,0], axis=1))\n\u001b[0m\u001b[1;32m    714\u001b[0m     Y = sp.special.sph_harm(-1*np.expand_dims(self.data_Kcalc, -1),\n\u001b[1;32m    715\u001b[0m         \u001b[0mnp\u001b[0m\u001b[0;34m.\u001b[0m\u001b[0mexpand_dims\u001b[0m\u001b[0;34m(\u001b[0m\u001b[0mself\u001b[0m\u001b[0;34m.\u001b[0m\u001b[0mdata_Lcalc\u001b[0m\u001b[0;34m,\u001b[0m \u001b[0;34m-\u001b[0m\u001b[0;36m1\u001b[0m\u001b[0;34m)\u001b[0m\u001b[0;34m,\u001b[0m\u001b[0;34m\u001b[0m\u001b[0;34m\u001b[0m\u001b[0m\n",
      "\u001b[0;32m~/.local/lib/python3.6/site-packages/scipy/special/_spherical_bessel.py\u001b[0m in \u001b[0;36mspherical_jn\u001b[0;34m(n, z, derivative)\u001b[0m\n\u001b[1;32m     54\u001b[0m         \u001b[0;32mreturn\u001b[0m \u001b[0m_spherical_jn_d\u001b[0m\u001b[0;34m(\u001b[0m\u001b[0mn\u001b[0m\u001b[0;34m,\u001b[0m \u001b[0mz\u001b[0m\u001b[0;34m)\u001b[0m\u001b[0;34m\u001b[0m\u001b[0;34m\u001b[0m\u001b[0m\n\u001b[1;32m     55\u001b[0m     \u001b[0;32melse\u001b[0m\u001b[0;34m:\u001b[0m\u001b[0;34m\u001b[0m\u001b[0;34m\u001b[0m\u001b[0m\n\u001b[0;32m---> 56\u001b[0;31m         \u001b[0;32mreturn\u001b[0m \u001b[0m_spherical_jn\u001b[0m\u001b[0;34m(\u001b[0m\u001b[0mn\u001b[0m\u001b[0;34m,\u001b[0m \u001b[0mz\u001b[0m\u001b[0;34m)\u001b[0m\u001b[0;34m\u001b[0m\u001b[0;34m\u001b[0m\u001b[0m\n\u001b[0m\u001b[1;32m     57\u001b[0m \u001b[0;34m\u001b[0m\u001b[0m\n\u001b[1;32m     58\u001b[0m \u001b[0;34m\u001b[0m\u001b[0m\n",
      "\u001b[0;31mMemoryError\u001b[0m: Unable to allocate array with shape (6, 3, 500, 132651) and data type float64"
     ]
    }
   ],
   "source": [
    "extraction = density_extraction(data_parameters,\n",
    "    log_prior=log_prior,\n",
    "    theta_to_cartesian=theta_to_cartesian,\n",
    "    ensemble_generator=molecule_ensemble_generator,\n",
    "    get_ADMs=None)\n",
    "molecule = extraction.setup_calculations()"
   ]
  },
  {
   "cell_type": "markdown",
   "metadata": {},
   "source": [
    "## Setup and Run the MCMC Sampler"
   ]
  },
  {
   "cell_type": "code",
   "execution_count": null,
   "metadata": {},
   "outputs": [],
   "source": [
    "walkers_init = initialize_walkers(\n",
    "    data_parameters, extraction.atom_positions)\n",
    "\n",
    "extraction.run_mcmc(walkers_init, data_parameters[\"run_limit\"])\n",
    "\n"
   ]
  },
  {
   "cell_type": "markdown",
   "metadata": {},
   "source": [
    "## Gather MCMC Results"
   ]
  },
  {
   "cell_type": "code",
   "execution_count": null,
   "metadata": {},
   "outputs": [],
   "source": [
    "chain = extraction.get_mcmc_results()"
   ]
  }
 ],
 "metadata": {
  "kernelspec": {
   "display_name": "Python 3",
   "language": "python",
   "name": "python3"
  },
  "language_info": {
   "codemirror_mode": {
    "name": "ipython",
    "version": 3
   },
   "file_extension": ".py",
   "mimetype": "text/x-python",
   "name": "python",
   "nbconvert_exporter": "python",
   "pygments_lexer": "ipython3",
   "version": "3.6.9"
  }
 },
 "nbformat": 4,
 "nbformat_minor": 2
}
